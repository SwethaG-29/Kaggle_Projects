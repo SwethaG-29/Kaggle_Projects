{
 "cells": [
  {
   "cell_type": "code",
   "execution_count": 47,
   "metadata": {
    "_cell_guid": "b1076dfc-b9ad-4769-8c92-a6c4dae69d19",
    "_uuid": "8f2839f25d086af736a60e9eeb907d3b93b6e0e5",
    "execution": {
     "iopub.execute_input": "2025-03-21T00:46:57.077360Z",
     "iopub.status.busy": "2025-03-21T00:46:57.076974Z",
     "iopub.status.idle": "2025-03-21T00:46:57.498911Z",
     "shell.execute_reply": "2025-03-21T00:46:57.497999Z",
     "shell.execute_reply.started": "2025-03-21T00:46:57.077329Z"
    }
   },
   "outputs": [],
   "source": [
    "### import pandas, numpy libraries\n",
    "import pandas as pd\n",
    "import numpy as np\n",
    "\n",
    "## Import Visualization libraries\n",
    "import seaborn as sns\n",
    "import matplotlib.pyplot as plt\n",
    "import plotly.express as px\n",
    "import plotly.graph_objects as go\n",
    "\n",
    "## import pio for default renderer\n",
    "import plotly.io as pio\n",
    "\n",
    "## Import subplots for visualization\n",
    "from plotly.subplots import make_subplots\n",
    "import plotly.subplots as sp\n",
    "\n",
    "## Import Date and time\n",
    "from datetime import datetime\n",
    "\n",
    "#import altair as alt\n",
    "\n",
    "## Import warnings libraries\n",
    "import warnings\n",
    "warnings.filterwarnings(\"ignore\")\n",
    "\n",
    "### setting deault renderers value\n",
    "pio.renderers.default = 'iframe_connected'\n"
   ]
  },
  {
   "cell_type": "markdown",
   "metadata": {},
   "source": [
    "### Step 1: Data Introduction"
   ]
  },
  {
   "cell_type": "code",
   "execution_count": 48,
   "metadata": {
    "execution": {
     "iopub.execute_input": "2025-03-21T00:46:58.650617Z",
     "iopub.status.busy": "2025-03-21T00:46:58.650094Z",
     "iopub.status.idle": "2025-03-21T00:46:58.712618Z",
     "shell.execute_reply": "2025-03-21T00:46:58.711714Z",
     "shell.execute_reply.started": "2025-03-21T00:46:58.650586Z"
    }
   },
   "outputs": [],
   "source": [
    "#pd.read_csv(\"/kaggle/input/nfl-big-data-bowl-2025/players.csv\")\n",
    "player_df = pd.read_csv(\"/Users/swethag/Desktop/Data Science Love!/Kaggle/NFL Big Data Bowl 2025/nfl-big-data-bowl-2025/players.csv\")"
   ]
  },
  {
   "cell_type": "markdown",
   "metadata": {},
   "source": [
    "### Step 2: Data Understanding"
   ]
  },
  {
   "cell_type": "code",
   "execution_count": 49,
   "metadata": {},
   "outputs": [
    {
     "name": "stdout",
     "output_type": "stream",
     "text": [
      "<class 'pandas.core.frame.DataFrame'>\n",
      "RangeIndex: 1697 entries, 0 to 1696\n",
      "Data columns (total 7 columns):\n",
      " #   Column       Non-Null Count  Dtype \n",
      "---  ------       --------------  ----- \n",
      " 0   nflId        1697 non-null   int64 \n",
      " 1   height       1697 non-null   object\n",
      " 2   weight       1697 non-null   int64 \n",
      " 3   birthDate    1210 non-null   object\n",
      " 4   collegeName  1697 non-null   object\n",
      " 5   position     1697 non-null   object\n",
      " 6   displayName  1697 non-null   object\n",
      "dtypes: int64(2), object(5)\n",
      "memory usage: 92.9+ KB\n"
     ]
    }
   ],
   "source": [
    "### birthDate and height fields are Object Datatype, we need to change the Data type accordingly. in \n",
    "\n",
    "player_df.info()"
   ]
  },
  {
   "cell_type": "code",
   "execution_count": 50,
   "metadata": {},
   "outputs": [
    {
     "data": {
      "text/html": [
       "<div>\n",
       "<style scoped>\n",
       "    .dataframe tbody tr th:only-of-type {\n",
       "        vertical-align: middle;\n",
       "    }\n",
       "\n",
       "    .dataframe tbody tr th {\n",
       "        vertical-align: top;\n",
       "    }\n",
       "\n",
       "    .dataframe thead th {\n",
       "        text-align: right;\n",
       "    }\n",
       "</style>\n",
       "<table border=\"1\" class=\"dataframe\">\n",
       "  <thead>\n",
       "    <tr style=\"text-align: right;\">\n",
       "      <th></th>\n",
       "      <th>nflId</th>\n",
       "      <th>height</th>\n",
       "      <th>weight</th>\n",
       "      <th>birthDate</th>\n",
       "      <th>collegeName</th>\n",
       "      <th>position</th>\n",
       "      <th>displayName</th>\n",
       "    </tr>\n",
       "  </thead>\n",
       "  <tbody>\n",
       "    <tr>\n",
       "      <th>0</th>\n",
       "      <td>25511</td>\n",
       "      <td>6-4</td>\n",
       "      <td>225</td>\n",
       "      <td>1977-08-03</td>\n",
       "      <td>Michigan</td>\n",
       "      <td>QB</td>\n",
       "      <td>Tom Brady</td>\n",
       "    </tr>\n",
       "    <tr>\n",
       "      <th>1</th>\n",
       "      <td>29550</td>\n",
       "      <td>6-4</td>\n",
       "      <td>328</td>\n",
       "      <td>1982-01-22</td>\n",
       "      <td>Arkansas</td>\n",
       "      <td>T</td>\n",
       "      <td>Jason Peters</td>\n",
       "    </tr>\n",
       "    <tr>\n",
       "      <th>2</th>\n",
       "      <td>29851</td>\n",
       "      <td>6-2</td>\n",
       "      <td>225</td>\n",
       "      <td>1983-12-02</td>\n",
       "      <td>California</td>\n",
       "      <td>QB</td>\n",
       "      <td>Aaron Rodgers</td>\n",
       "    </tr>\n",
       "    <tr>\n",
       "      <th>3</th>\n",
       "      <td>30842</td>\n",
       "      <td>6-6</td>\n",
       "      <td>267</td>\n",
       "      <td>1984-05-19</td>\n",
       "      <td>UCLA</td>\n",
       "      <td>TE</td>\n",
       "      <td>Marcedes Lewis</td>\n",
       "    </tr>\n",
       "    <tr>\n",
       "      <th>4</th>\n",
       "      <td>33084</td>\n",
       "      <td>6-4</td>\n",
       "      <td>217</td>\n",
       "      <td>1985-05-17</td>\n",
       "      <td>Boston College</td>\n",
       "      <td>QB</td>\n",
       "      <td>Matt Ryan</td>\n",
       "    </tr>\n",
       "  </tbody>\n",
       "</table>\n",
       "</div>"
      ],
      "text/plain": [
       "   nflId height  weight   birthDate     collegeName position     displayName\n",
       "0  25511    6-4     225  1977-08-03        Michigan       QB       Tom Brady\n",
       "1  29550    6-4     328  1982-01-22        Arkansas        T    Jason Peters\n",
       "2  29851    6-2     225  1983-12-02      California       QB   Aaron Rodgers\n",
       "3  30842    6-6     267  1984-05-19            UCLA       TE  Marcedes Lewis\n",
       "4  33084    6-4     217  1985-05-17  Boston College       QB       Matt Ryan"
      ]
     },
     "execution_count": 50,
     "metadata": {},
     "output_type": "execute_result"
    }
   ],
   "source": [
    "### First 5 rows in DataFrame\n",
    "\n",
    "player_df.head()"
   ]
  },
  {
   "cell_type": "code",
   "execution_count": 51,
   "metadata": {},
   "outputs": [
    {
     "data": {
      "text/plain": [
       "(1697, 7)"
      ]
     },
     "execution_count": 51,
     "metadata": {},
     "output_type": "execute_result"
    }
   ],
   "source": [
    "### Shape of DataFrame\n",
    "\n",
    "player_df.shape"
   ]
  },
  {
   "cell_type": "code",
   "execution_count": 52,
   "metadata": {},
   "outputs": [
    {
     "data": {
      "text/html": [
       "<div>\n",
       "<style scoped>\n",
       "    .dataframe tbody tr th:only-of-type {\n",
       "        vertical-align: middle;\n",
       "    }\n",
       "\n",
       "    .dataframe tbody tr th {\n",
       "        vertical-align: top;\n",
       "    }\n",
       "\n",
       "    .dataframe thead th {\n",
       "        text-align: right;\n",
       "    }\n",
       "</style>\n",
       "<table border=\"1\" class=\"dataframe\">\n",
       "  <thead>\n",
       "    <tr style=\"text-align: right;\">\n",
       "      <th></th>\n",
       "      <th>nflId</th>\n",
       "      <th>weight</th>\n",
       "    </tr>\n",
       "  </thead>\n",
       "  <tbody>\n",
       "    <tr>\n",
       "      <th>count</th>\n",
       "      <td>1697.000000</td>\n",
       "      <td>1697.000000</td>\n",
       "    </tr>\n",
       "    <tr>\n",
       "      <th>mean</th>\n",
       "      <td>48237.157336</td>\n",
       "      <td>245.774308</td>\n",
       "    </tr>\n",
       "    <tr>\n",
       "      <th>std</th>\n",
       "      <td>5230.066814</td>\n",
       "      <td>47.256005</td>\n",
       "    </tr>\n",
       "    <tr>\n",
       "      <th>min</th>\n",
       "      <td>25511.000000</td>\n",
       "      <td>153.000000</td>\n",
       "    </tr>\n",
       "    <tr>\n",
       "      <th>25%</th>\n",
       "      <td>44830.000000</td>\n",
       "      <td>205.000000</td>\n",
       "    </tr>\n",
       "    <tr>\n",
       "      <th>50%</th>\n",
       "      <td>47874.000000</td>\n",
       "      <td>236.000000</td>\n",
       "    </tr>\n",
       "    <tr>\n",
       "      <th>75%</th>\n",
       "      <td>53476.000000</td>\n",
       "      <td>291.000000</td>\n",
       "    </tr>\n",
       "    <tr>\n",
       "      <th>max</th>\n",
       "      <td>55241.000000</td>\n",
       "      <td>380.000000</td>\n",
       "    </tr>\n",
       "  </tbody>\n",
       "</table>\n",
       "</div>"
      ],
      "text/plain": [
       "              nflId       weight\n",
       "count   1697.000000  1697.000000\n",
       "mean   48237.157336   245.774308\n",
       "std     5230.066814    47.256005\n",
       "min    25511.000000   153.000000\n",
       "25%    44830.000000   205.000000\n",
       "50%    47874.000000   236.000000\n",
       "75%    53476.000000   291.000000\n",
       "max    55241.000000   380.000000"
      ]
     },
     "execution_count": 52,
     "metadata": {},
     "output_type": "execute_result"
    }
   ],
   "source": [
    "### Understanding the statistics of numerical variable\n",
    "\n",
    "player_df.describe()"
   ]
  },
  {
   "cell_type": "code",
   "execution_count": 53,
   "metadata": {},
   "outputs": [
    {
     "data": {
      "text/plain": [
       "nflId            0\n",
       "height           0\n",
       "weight           0\n",
       "birthDate      487\n",
       "collegeName      0\n",
       "position         0\n",
       "displayName      0\n",
       "dtype: int64"
      ]
     },
     "execution_count": 53,
     "metadata": {},
     "output_type": "execute_result"
    }
   ],
   "source": [
    "### Finding the missing percentage in data set\n",
    "\n",
    "player_df.isna().sum()\n",
    "\n",
    "### Only \"birthDate\" column has 487 missing values out of 1697 records"
   ]
  },
  {
   "cell_type": "code",
   "execution_count": 54,
   "metadata": {},
   "outputs": [
    {
     "data": {
      "text/plain": [
       "0"
      ]
     },
     "execution_count": 54,
     "metadata": {},
     "output_type": "execute_result"
    }
   ],
   "source": [
    "### Check if Duplciates recordas are present\n",
    "\n",
    "player_df.duplicated().sum()\n",
    "\n",
    "### No duplicates present"
   ]
  },
  {
   "cell_type": "code",
   "execution_count": 55,
   "metadata": {},
   "outputs": [
    {
     "data": {
      "text/plain": [
       "['nflId',\n",
       " 'height',\n",
       " 'weight',\n",
       " 'birthDate',\n",
       " 'collegeName',\n",
       " 'position',\n",
       " 'displayName']"
      ]
     },
     "execution_count": 55,
     "metadata": {},
     "output_type": "execute_result"
    }
   ],
   "source": [
    "### Listing out all column names\n",
    "\n",
    "player_df.columns.tolist()"
   ]
  },
  {
   "cell_type": "code",
   "execution_count": 56,
   "metadata": {},
   "outputs": [
    {
     "data": {
      "text/plain": [
       "nflId          1697\n",
       "height           16\n",
       "weight          179\n",
       "birthDate       989\n",
       "collegeName     225\n",
       "position         19\n",
       "displayName    1687\n",
       "dtype: int64"
      ]
     },
     "execution_count": 56,
     "metadata": {},
     "output_type": "execute_result"
    }
   ],
   "source": [
    "### number of Uniques values in players_df\n",
    "\n",
    "player_df.nunique()"
   ]
  },
  {
   "cell_type": "code",
   "execution_count": 57,
   "metadata": {},
   "outputs": [
    {
     "name": "stdout",
     "output_type": "stream",
     "text": [
      "nflId : [25511 29550 29851 ... 55239 55240 55241]\n",
      "\n",
      " ------------------------------------------------------------------------------------------\n",
      "height : ['6-4' '6-2' '6-6' '5-10' '6-8' '6-3' '6-0' '6-5' '6-1' '5-9' '5-11' '5-8'\n",
      " '6-7' '6-9' '5-6' '5-7']\n",
      "\n",
      " ------------------------------------------------------------------------------------------\n",
      "weight : [225 328 267 217 245 315 175 300 222 205 220 229 215 320 304 265 275 185\n",
      " 195 254 325 285 335 330 250 210 203 288 257 287 295 192 270 199 235 260\n",
      " 207 202 310 305 247 214 242 233 279 248 243 352 308 321 198 200 212 174\n",
      " 317 311 238 190 221 193 340 255 211 179 327 307 281 240 263 197 230 191\n",
      " 309 178 269 231 280 194 312 183 252 196 336 301 350 322 256 290 208 332\n",
      " 232 306 224 302 216 316 292 313 218 338 341 182 236 318 177 272 227 323\n",
      " 298 380 234 184 209 180 188 299 223 237 228 314 244 201 246 296 303 261\n",
      " 291 324 347 189 294 213 259 181 253 289 264 266 204 284 297 226 173 258\n",
      " 345 329 251 206 277 331 344 187 219 239 262 342 249 170 176 326 366 334\n",
      " 319 241 268 172 333 186 153 165 273 278 346 274 293 355 282 360 379]\n",
      "\n",
      " ------------------------------------------------------------------------------------------\n",
      "birthDate : ['1977-08-03' '1982-01-22' '1983-12-02' '1984-05-19' '1985-05-17'\n",
      " '1985-01-16' '1985-08-30' '1986-12-01' '1986-09-01' '1985-07-02'\n",
      " '1985-09-09' '1988-02-07' '1986-10-07' '1985-10-13' '1988-07-19'\n",
      " '1987-05-12' '1988-04-03' '1989-01-01' '1988-04-10' '1987-08-13'\n",
      " '1988-08-13' '1988-06-06' '1989-02-28' '1988-06-08' '1987-03-25'\n",
      " '1985-10-27' '1989-03-26' '1988-07-31' '1990-07-11' '1989-02-08'\n",
      " '1989-03-22' '1990-05-18' '1989-07-10' '1989-12-21' '1989-05-06'\n",
      " '1987-10-29' '1989-11-09' '1989-07-12' '1990-08-22' '1989-01-21'\n",
      " '1988-05-06' '1989-08-03' '1987-11-05' '1990-03-17' '1989-06-18'\n",
      " '1989-08-24' '1989-05-12' '1987-09-06' '1988-07-27' '1990-09-19'\n",
      " '1990-12-13' '1990-12-21' '1987-11-01' '1989-04-26' '1990-02-27'\n",
      " '1988-12-01' '1990-03-08' '1989-02-02' '1990-06-27' '1990-01-23'\n",
      " '1988-06-30' '1989-09-09' '1988-11-29' '1989-01-11' '1989-01-20'\n",
      " '1989-11-16' '1989-07-02' '1988-08-19' '1990-01-16' '1990-03-12'\n",
      " '1990-06-17' '1989-06-08' '1990-06-23' '1990-08-07' '1988-02-17'\n",
      " '1990-01-26' '1991-04-13' '1990-02-26' '1990-04-02' '1990-05-08'\n",
      " '1990-08-15' '1992-06-06' '1991-03-17' '1990-11-10' '1991-01-01'\n",
      " '1990-10-10' '1992-04-10' '1992-03-30' '1991-05-05' '1989-10-20'\n",
      " '1989-10-05' '1992-05-13' '1991-07-23' '1992-04-27' '1990-11-19'\n",
      " '1989-07-11' '1991-02-09' '1991-01-24' '1991-11-29' '1991-09-30'\n",
      " '1991-07-31' '1991-04-23' '1991-06-05' '1990-09-16' '1991-07-30'\n",
      " '1990-12-31' '1990-08-24' '1990-01-18' '1990-07-02' '1990-01-11'\n",
      " '1991-04-25' '1990-02-21' '1991-04-20' '1991-07-02' '1992-01-17'\n",
      " '1992-01-27' '1989-06-05' '1993-02-14' '1993-06-14' '1991-02-22'\n",
      " '1992-02-11' '1993-08-21' '1992-03-18' '1991-07-22' '1991-05-23'\n",
      " '1992-02-16' '1990-11-20' '1992-06-19' '1992-06-03' '1993-09-25'\n",
      " '1991-07-18' '1992-05-01' '1992-11-10' '1992-04-28' '1991-10-11'\n",
      " '1991-03-28' '1991-03-26' '1990-11-27' '1993-01-17' '1992-12-24'\n",
      " '1993-08-24' '1991-11-02' '1992-11-28' '1991-05-29' '1991-03-03'\n",
      " '1991-10-17' '1992-08-31' '1991-07-12' '1990-11-15' '1992-05-03'\n",
      " '1992-01-22' '1990-12-27' '1991-12-27' '1991-07-01' '1991-12-01'\n",
      " '1991-10-07' '1992-09-03' '1991-07-27' '1991-06-24' '1991-08-11'\n",
      " '1991-10-09' '1992-05-17' '1992-10-17' '1990-03-05' '1991-12-17'\n",
      " '1991-05-09' '1991-05-06' '1992-05-31' '1991-02-14' '1991-07-08'\n",
      " '1992-04-03' '1991-05-02' '1992-04-08' '1992-11-17' '1991-10-25'\n",
      " '1991-02-18' '1992-07-07' '1990-07-15' '1991-07-03' '1992-03-28'\n",
      " '1992-04-13' '1994-01-06' '1993-10-30' '1994-08-03' '1994-06-17'\n",
      " '1991-12-26' '1994-06-20' '1992-06-25' '1993-11-04' '1993-01-20'\n",
      " '1993-04-13' '1993-11-15' '1993-01-09' '1992-08-23' '1993-05-24'\n",
      " '1992-04-25' '1993-02-12' '1993-12-28' '1994-04-21' '1993-09-10'\n",
      " '1992-02-09' '1993-01-05' '1994-01-10' '1993-06-23' '1994-01-25'\n",
      " '1992-02-29' '1992-10-03' '1992-12-05' '1992-04-21' '1994-01-02'\n",
      " '1992-09-21' '1993-06-13' '1994-04-12' '1991-03-13' '1992-11-23'\n",
      " '1991-10-03' '1992-09-28' '1993-04-16' '1992-10-25' '1993-06-01'\n",
      " '1992-06-27' '1992-10-15' '1994-10-29' '1992-03-02' '1991-08-03'\n",
      " '1993-01-22' '1992-11-14' '1993-08-16' '1993-06-17' '1992-09-08'\n",
      " '1993-02-19' '1993-05-28' '1992-02-10' '1993-08-28' '1991-11-09'\n",
      " '1993-04-28' '1993-04-29' '1992-03-24' '1993-08-18' '1993-11-29'\n",
      " '1993-01-14' '1994-06-04' '1992-02-01' '1993-08-08' '1993-02-17'\n",
      " '1992-09-13' '03/10/1992' '1993-10-16' '1993-07-03' '1994-08-21'\n",
      " '1993-09-16' '1993-07-26' '1992-04-09' '1992-04-22' '1993-04-06'\n",
      " '1993-04-10' '1991-08-29' '1992-02-17' '1992-12-29' '1993-03-27'\n",
      " '03/15/1993' '1993-05-15' '1992-07-10' '1993-01-27' '1992-07-25'\n",
      " '1993-12-07' '1991-10-23' '1992-04-23' '1994-10-14' '1992-12-30'\n",
      " '1995-07-11' '1995-07-22' '1994-10-24' '1994-03-18' '1994-03-17'\n",
      " '1994-08-17' '1995-08-09' '1994-04-02' '1994-08-02' '1993-08-23'\n",
      " '1995-07-26' '1993-05-30' '1992-10-27' '1995-05-01' '1995-10-04'\n",
      " '1993-11-06' '1995-06-14' '1994-12-07' '1995-09-03' '1994-07-03'\n",
      " '1993-07-04' '1993-02-10' '1994-05-08' '1994-05-11' '1994-01-04'\n",
      " '1995-03-21' '1993-03-03' '1992-12-16' '1994-11-04' '1994-11-15'\n",
      " '1992-07-11' '1994-12-12' '1993-08-04' '1992-09-23' '1993-08-17'\n",
      " '1993-04-12' '1995-04-08' '1995-03-31' '1993-10-22' '1994-01-26'\n",
      " '1995-02-22' '1992-11-18' '1993-10-29' '1995-02-13' '1993-08-20'\n",
      " '1993-02-07' '1992-12-11' '1993-03-06' '1992-08-19' '1993-11-19'\n",
      " '1994-01-07' '1993-06-16' '1993-01-01' '1993-05-10' '1993-07-01'\n",
      " '1994-11-02' '1992-11-13' '1995-03-06' '1993-08-14' '1994-09-21'\n",
      " '1994-01-09' '1993-07-29' '1994-06-09' '1993-04-27' '1992-08-15'\n",
      " '1993-03-31' '1994-01-11' '1993-03-11' '1994-02-02' '1992-02-06'\n",
      " '1994-03-01' '1994-07-01' '1994-10-07' '1993-12-15' '1993-09-11'\n",
      " '1992-11-07' '1992-09-05' '1994-08-16' '1993-04-23' '1994-05-16'\n",
      " '1994-04-22' '1994-07-29' '1993-03-15' '1994-04-06' '1994-04-24'\n",
      " '1994-02-11' '1993-06-02' '1992-06-16' '1994-08-08' '1992-07-19'\n",
      " '1992-07-15' '1994-03-09' '1992-11-06' '1993-09-20' '1993-08-15'\n",
      " '1992-10-28' '1993-07-23' '1994-09-12' '1993-11-18' '1993-05-09'\n",
      " '1992-09-10' '1993-01-30' '1993-01-03' '1993-07-22' '1993-01-24'\n",
      " '1994-08-05' '1993-07-30' '1993-02-22' '1993-09-19' '1995-12-29'\n",
      " '1994-08-20' '1995-08-26' '1995-01-18' '1995-01-11' '1995-10-17'\n",
      " '1994-10-04' '1996-06-07' '1995-09-17' '1996-05-20' '1994-09-22'\n",
      " '1996-06-25' '1996-04-02' '1996-07-08' '1995-01-16' '1995-09-18'\n",
      " '1994-11-18' '1992-05-27' '1994-09-02' '1995-11-02' '1996-07-10'\n",
      " '1994-10-11' '1995-10-09' '1996-01-10' '1995-03-30' '1993-03-09'\n",
      " '1996-08-11' '1995-08-10' '1996-09-08' '1996-05-21' '1994-06-25'\n",
      " '1996-08-16' '1995-05-23' '1996-07-24' '1994-08-12' '1994-09-30'\n",
      " '1995-11-17' '1994-02-28' '1994-12-02' '1995-08-05' '1994-06-14'\n",
      " '1995-05-24' '1994-09-20' '1996-11-22' '1994-04-26' '1994-06-03'\n",
      " '1995-07-25' '1995-03-02' '1993-06-15' '1994-07-06' '1993-08-25'\n",
      " '1994-08-09' '1994-04-09' '1996-02-27' '1995-08-06' '1996-04-24'\n",
      " '1995-07-20' '1995-12-19' '1995-08-31' '1995-07-24' '1995-02-27'\n",
      " '1993-11-03' '1995-08-29' '1995-08-22' '1994-12-05' '1993-11-16'\n",
      " '1995-05-05' '1994-07-12' '1993-12-10' '1995-09-16' '1995-06-29'\n",
      " '1995-02-16' '1995-01-31' '1995-05-09' '1994-07-26' '1995-04-03'\n",
      " '1995-03-28' '1993-12-05' '1993-10-20' '1993-10-09' '1994-12-14'\n",
      " '1995-02-26' '1994-12-13' '1995-08-08' '1994-07-28' '1995-04-09'\n",
      " '1994-05-01' '1994-04-30' '1994-11-11' '1995-04-19' '1994-05-17'\n",
      " '1994-12-16' '1995-01-19' '1994-11-01' '1992-10-19' '1994-04-08'\n",
      " '1995-04-22' '1996-02-08' '1996-01-06' '1994-03-04' '1993-11-01'\n",
      " '1994-01-27' '1994-11-23' '1994-12-18' '1995-08-04' '1995-02-28'\n",
      " '1995-02-18' '1994-09-26' '1995-09-05' '1994-05-02' '1990-08-23'\n",
      " '1994-05-27' '1995-08-23' '1994-05-04' '1995-07-10' '1995-02-19'\n",
      " '1995-08-14' '1993-07-13' '12/18/1994' '1994-02-21' '1993-11-21'\n",
      " '1995-02-10' '1993-04-20' '1995-01-06' '1995-05-17' '1994-05-19'\n",
      " '1994-08-19' '1995-03-15' '1994-08-28' '1995-04-14' '1997-02-09'\n",
      " '1997-04-28' '1996-06-24' '1996-03-19' '1997-04-08' '1995-01-12'\n",
      " '1996-11-17' '1995-02-05' '1997-05-27' '1996-09-04' '1998-05-02'\n",
      " '1996-08-03' '1996-05-17' '1995-11-08' '1995-12-09' '1997-04-14'\n",
      " '1996-02-02' '1997-01-20' '1996-03-11' '1997-02-11' '1995-02-17'\n",
      " '1997-01-07' '1995-09-02' '1995-12-27' '1995-07-27' '1996-03-25'\n",
      " '1997-09-13' '1995-10-10' '1995-10-03' '1995-10-23' '1996-04-03'\n",
      " '1996-11-18' '1996-12-28' '1995-01-03' '1997-05-12' '1997-02-26'\n",
      " '1996-09-30' '1996-09-23' '1995-09-15' '1996-12-31' '1995-01-30'\n",
      " '1995-12-10' '1997-02-15' '1995-04-20' '1996-11-19' '1996-12-25'\n",
      " '1996-09-10' '1996-05-09' '1997-05-15' '1996-03-04' '1995-02-01'\n",
      " '1996-05-02' '1996-08-28' '1995-09-06' '1996-05-03' '1995-06-19'\n",
      " '1994-07-22' '1996-01-07' '1997-08-08' '1997-04-18' '1995-01-27'\n",
      " '1996-01-25' '1996-03-28' '1992-04-19' '1996-02-20' '1996-06-06'\n",
      " '1997-01-14' '1996-11-12' '1994-12-25' '1995-10-11' '1995-11-14'\n",
      " '1997-06-10' '1997-03-18' '1994-11-30' '1996-03-24' '1996-07-27'\n",
      " '1996-03-31' '1996-05-08' '1997-03-29' '1996-04-13' '1996-09-26'\n",
      " '1993-12-16' '1996-07-11' '1996-11-11' '1996-08-24' '1996-04-04'\n",
      " '1996-09-14' '1995-06-02' '1995-04-26' '1994-08-04' '1995-03-23'\n",
      " '1995-07-30' '1995-04-24' '1997-07-11' '1994-11-21' '1994-07-18'\n",
      " '1994-10-10' '1995-03-04' '1995-12-11' '1996-10-15' '1997-04-21'\n",
      " '1996-01-22' '1995-08-02' '1995-04-27' '1995-03-10' '1995-09-22'\n",
      " '1995-10-06' '1995-06-23' '1994-11-24' '1995-12-12' '1994-09-11'\n",
      " '1997-03-31' '1996-07-02' '1995-09-07' '1996-04-17' '1996-04-22'\n",
      " '1995-01-26' '1994-10-23' '1994-07-24' '1995-07-28' '1995-11-16'\n",
      " '1996-01-18' '1994-09-01' '1996-01-31' '1995-04-13' '1997-09-12'\n",
      " '1995-11-19' '08/24/1995' '1994-01-13' '1993-11-17' '1995-04-15'\n",
      " '1996-09-19' '1994-12-26' '1995-09-19' '1995-08-18' '1995-11-27'\n",
      " '1996-08-29' '1996-08-07' '1996-02-26' '1996-06-09' '1996-09-16'\n",
      " '1996-04-27' '1995-06-12' '02/20/1995' '1996-03-05' '1996-04-18'\n",
      " '1995-12-24' '1994-09-08' '1996-05-16' '1996-01-24' '1995-12-30'\n",
      " '1994-11-12' '1995-09-12' '1995-11-09' '1995-08-28' '1995-12-14'\n",
      " '1995-07-23' '1996-07-01' '1996-01-30' '1994-12-15' '1997-08-07'\n",
      " '1997-10-23' '1997-12-21' '1997-05-17' '1998-02-17' '1997-07-13'\n",
      " '1997-07-03' '1997-12-12' '1998-07-18' '1997-11-17' '1997-12-03'\n",
      " '1995-12-20' '1997-02-08' '1998-04-23' '1997-11-12' '1995-06-20'\n",
      " '1997-07-28' '1997-11-20' '1997-07-30' '1996-05-23' '1998-02-11'\n",
      " '1997-06-04' '1996-10-25' '1996-10-08' '1997-12-17' '1998-01-18'\n",
      " '1997-11-25' '1996-01-15' '1997-11-04' '1997-06-19' '1997-09-20'\n",
      " '1995-07-13' '1996-09-28' '1995-12-26' '1997-07-18' '1997-08-27'\n",
      " '1996-01-19' '1998-08-09' '1997-06-30' '1996-04-16' '1997-05-01'\n",
      " '1995-11-04' '1996-08-10' '1998-03-12' '1998-03-25' '1997-07-16'\n",
      " '1997-05-31' '1997-12-22' '1995-10-19' '1997-12-14' '1997-08-20'\n",
      " '1996-07-05' '1997-03-21' '1997-08-19' '1997-01-05' '1997-06-07'\n",
      " '1997-09-03' '1998-02-06' '1995-06-08' '1998-01-12' '1996-08-09'\n",
      " '1996-11-13' '1996-07-29' '1997-11-03' '1996-09-05' '1996-10-12'\n",
      " '1996-12-07' '1996-11-14' '1997-03-24' '1996-05-18' '1996-02-21'\n",
      " '1998-06-19' '1997-12-20' '1997-08-22' '1997-03-04' '1998-03-19'\n",
      " '1997-11-14' '1998-06-14' '1996-08-20' '1996-10-29' '1997-04-30'\n",
      " '1995-08-15' '1997-05-16' '1996-08-08' '1996-05-06' '1995-11-22'\n",
      " '1997-05-06' '1996-02-09' '1997-05-25' '1995-12-21' '1995-07-01'\n",
      " '1998-02-14' '1996-05-10' '1997-01-10' '1995-06-01' '1997-03-20'\n",
      " '1997-01-12' '1996-07-30' '1995-11-13' '1997-09-17' '1996-07-22'\n",
      " '1996-01-27' '1997-02-14' '1997-02-17' '1998-08-07' '1997-07-31'\n",
      " '1995-02-21' '1996-04-21' '1996-09-12' '1997-04-04' '1995-06-10'\n",
      " '1996-05-05' '1997-06-05' '1996-08-05' '1996-07-09' '1996-05-15'\n",
      " '1996-11-09' '1997-03-01' '1996-10-24' '1995-09-08' '1996-08-13'\n",
      " '1996-08-04' '1996-01-02' '1995-10-20' '1997-08-13' '1997-05-02'\n",
      " '1997-06-22' '1996-01-17' '1997-08-04' '1996-10-02' '1996-10-09'\n",
      " '1997-07-23' '1997-12-04' '1997-02-12' '1995-12-15' '1997-08-16'\n",
      " '1996-11-24' '1996-11-04' '1998-06-25' '1996-01-11' '1997-04-13'\n",
      " '1996-05-29' '1997-11-05' '1996-12-05' '1998-07-10' '1996-08-15'\n",
      " '1996-08-12' '1996-09-01' '1996-09-07' '1996-12-18' '1998-04-19'\n",
      " '01/16/1996' '1996-01-08' '1998-05-29' '1995-12-07' '1997-02-27'\n",
      " '1996-06-15' '1995-05-26' '1995-11-10' '1997-05-09' '1994-09-13'\n",
      " '1997-06-21' '1996-11-26' nan '1996-12-10' '1999-02-02' '1999-01-22'\n",
      " '1998-03-02' '1998-03-10' '1998-04-15' '1998-07-26' '1998-09-30'\n",
      " '1999-05-17' '1999-01-24' '1997-10-03' '1999-04-24' '1998-09-23'\n",
      " '1999-04-08' '1999-08-11' '1999-07-25' '1999-01-02' '1998-11-16'\n",
      " '1999-06-14' '1998-03-17' '1998-11-02' '1997-10-21' '1999-08-13'\n",
      " '1999-11-27' '1999-04-11' '1999-01-18' '1997-10-05' '1999-01-14'\n",
      " '1998-08-08' '1996-03-22' '1998-02-26' '1996-08-25' '1998-07-09'\n",
      " '1999-01-19' '1998-10-05' '1999-03-10' '1998-09-20' '1998-08-16'\n",
      " '1999-07-08' '1998-07-07' '1999-04-19' '1999-06-22' '1998-09-15'\n",
      " '1998-12-17' '1996-07-26' '1998-05-08' '1997-10-10' '1998-09-18'\n",
      " '1998-09-03' '1998-02-15' '1998-06-23' '1997-12-27' '1996-10-10'\n",
      " '1998-04-02' '1997-02-01' '1996-12-30' '1997-02-05' '1997-05-04'\n",
      " '1997-10-14' '1998-11-13' '1997-01-17' '1997-11-22' '1998-08-25'\n",
      " '1998-08-24' '1997-12-15' '1997-09-01' '1997-11-23' '1997-08-14'\n",
      " '1999-04-01' '1998-03-05' '1997-08-18' '1997-01-29' '1997-09-21'\n",
      " '1999-07-26' '1998-08-23' '1998-07-22' '1997-10-31' '1998-04-25'\n",
      " '1997-08-28' '1996-11-20' '1997-07-25' '1999-03-01' '1999-01-20'\n",
      " '1996-09-18' '1999-01-08' '1997-08-25' '1997-03-27' '1999-04-05'\n",
      " '1997-01-21' '1998-07-06' '1998-02-20' '1998-09-16' '1997-04-01'\n",
      " '1996-06-19' '1997-06-13' '1997-12-06' '1997-12-11' '1998-04-01'\n",
      " '1996-12-04' '1997-10-29' '1997-04-24' '1997-12-08' '1997-12-10'\n",
      " '1999-02-19' '1997-10-16' '1998-03-04' '1998-06-09' '1996-09-20'\n",
      " '1997-01-23' '1998-01-21' '1997-04-02' '1998-10-21' '1997-04-29'\n",
      " '1998-01-07' '1998-08-06' '1997-03-07' '1997-07-10' '1999-04-13'\n",
      " '1996-08-22' '1996-11-29' '1999-07-28' '1998-04-13' '1998-06-24'\n",
      " '1996-11-28' '1997-03-12' '1996-11-07' '1997-01-15' '1997-11-27'\n",
      " '1998-06-16' '1997-11-24' '1998-09-12' '1997-02-19' '1995-08-17'\n",
      " '1998-03-09' '1997-08-05' '1996-10-16' '1998-04-29' '1998-03-23'\n",
      " '1998-06-12' '1997-07-06' '1998-12-29' '1997-12-28' '1996-09-13'\n",
      " '1995-07-16' '1996-09-17' '1998-07-19' '1998-01-02' '1998-01-04'\n",
      " '1997-01-11' '1998-03-18' '1998-04-17' '1998-05-24' '1997-10-28'\n",
      " '1998-08-29' '1997-02-28' '1996-06-10' '1998-03-27']\n",
      "\n",
      " ------------------------------------------------------------------------------------------\n",
      "collegeName : ['Michigan' 'Arkansas' 'California' 'UCLA' 'Boston College' 'Delaware'\n",
      " 'Virginia Tech' 'Miami' 'Georgia' 'Missouri' 'Michigan State' 'Oklahoma'\n",
      " 'South Florida' 'Alabama' 'Rutgers' 'Texas Christian' 'Indiana' 'Florida'\n",
      " 'Kentucky' 'Louisiana State' 'Texas State' 'Texas A&amp;M' 'Wisconsin'\n",
      " 'North Carolina' 'Ohio State' 'Notre Dame' 'Florida State' 'Cincinnati'\n",
      " 'Arizona State' 'Kansas' 'Auburn' 'Central Michigan' 'Troy'\n",
      " 'South Carolina' 'Mississippi State' 'West Virginia' 'Syracuse' 'Iowa'\n",
      " 'Utah State' 'Nebraska' 'Marshall' 'Vanderbilt' 'Arkansas State'\n",
      " 'Arizona' 'Regina, Can.' 'Purdue' 'Presbyterian' 'Southern Methodist'\n",
      " 'Virginia' 'Stanford' 'Wyoming' 'Houston' 'Mississippi' 'Baylor'\n",
      " 'Pennsylvania' 'California, Pa.' 'Clemson' 'Tennessee'\n",
      " 'Southern California' 'Southern Mississippi' 'Arkansas-Pine Bluff'\n",
      " 'Texas' 'Illinois' 'Colorado' 'Harvard' 'Buffalo' 'Iowa State'\n",
      " 'San Jose State' 'Central Florida' 'Connecticut' 'Oregon State' 'Samford'\n",
      " 'Minn. State-Mankato' 'Pittsburgh' 'Northern Illinois' 'Louisville'\n",
      " 'Boise State' 'Nevada' 'Fresno State' 'Brigham Young' 'Georgia Tech'\n",
      " 'Penn State' 'Eastern Illinois' 'North Dakota State' 'Georgia Southern'\n",
      " 'Louisiana Tech' 'North Carolina State' 'Illinois State' 'Oregon'\n",
      " 'Ball State' 'Kansas State' 'Colorado State-Pueblo'\n",
      " 'South Carolina State' 'James Madison' 'Texas Tech' 'Colorado State'\n",
      " 'Bloomsburg' 'Canisius' 'No College' 'Washington' 'Duke' 'Utah'\n",
      " 'Minnesota' 'Southern Illinois' 'Memphis' 'Maryland'\n",
      " 'Louisiana-Lafayette' 'Rice' 'Northwestern' 'Texas-El Paso'\n",
      " 'Sacramento State' 'Wisconsin-Whitewater' 'Old Dominion' 'Montana State'\n",
      " 'Toledo' 'Oklahoma State' 'Middle Tennessee' 'Western Kentucky'\n",
      " 'Southern Utah' 'Manitoba, Can.' 'Grand Valley State' 'Temple'\n",
      " 'West Alabama' 'William &amp; Mary' 'Holy Cross' 'Florida Atlantic'\n",
      " 'Augustana, S.D.' 'Virginia Commonwealth' 'Western Michigan'\n",
      " 'East Carolina' 'South Alabama' 'Villanova' 'North Carolina-Charlotte'\n",
      " 'Eastern Washington' 'Ohio' 'Florida International' 'Albany State, Ga.'\n",
      " 'San Diego' 'Drake' 'West Georgia' 'Chattanooga' 'Eastern Michigan'\n",
      " 'San Diego State' 'Maine' 'Valdosta State' 'Greenville' 'Hawaii'\n",
      " 'Massachusetts' 'Kentucky Wesleyan' 'Western State, Colo.'\n",
      " 'Indiana State' 'Missouri State' 'Wisconsin-Platteville'\n",
      " 'Washington State' 'Texas-San Antonio' 'South Dakota State' 'Wake Forest'\n",
      " 'Fort Hays State' 'Humboldt State' 'Weber State' 'Fordham'\n",
      " 'Stephen F. Austin' 'Jacksonville State' 'Yale' 'Appalachian State'\n",
      " 'Ferris State' 'Western Carolina' 'Southern U.' 'Central Arkansas'\n",
      " 'North Texas' 'Youngstown State' 'Alabama-Birmingham' 'Northern Iowa'\n",
      " 'Tulane' 'Georgia State' 'Sioux Falls' 'Missouri Western' 'Grambling'\n",
      " 'Bucknell' 'Southern Arkansas' 'Southeast Missouri' 'Prairie View'\n",
      " 'Alabama State' 'Western Illinois' 'Murray State' 'Charleston, W. Va.'\n",
      " 'Tarleton State' 'Elon' 'Bowling Green' 'North Carolina A&amp;T' 'Idaho'\n",
      " 'Malone' 'Lindenwood' 'Assumption' 'Stetson University'\n",
      " 'Wayne State, Mich.' 'Findlay' 'Bryant' 'Princeton' 'Kutztown'\n",
      " 'Bemidji State' 'Tusculum' 'Lenoir-Rhyne' 'Dayton' \"St. John's, Minn.\"\n",
      " 'Tulsa' 'Wagner' 'Missouri S&amp;T' 'Brown' 'Army' 'Norfolk State'\n",
      " 'North Carolina at Pembroke' 'Berry' 'Eastern Kentucky' 'Miami, O.'\n",
      " 'Coastal Carolina' 'Liberty' 'Fayetteville State' 'Sam Houston State'\n",
      " 'Northwest Missouri State' 'Framingham State' 'West Florida'\n",
      " 'Idaho State' 'Texas A&amp;M-Commerce' 'Florida A&amp;M']\n",
      "\n",
      " ------------------------------------------------------------------------------------------\n",
      "position : ['QB' 'T' 'TE' 'WR' 'DE' 'NT' 'SS' 'FS' 'G' 'OLB' 'DT' 'CB' 'RB' 'C' 'ILB'\n",
      " 'MLB' 'FB' 'DB' 'LB']\n",
      "\n",
      " ------------------------------------------------------------------------------------------\n",
      "displayName : ['Tom Brady' 'Jason Peters' 'Aaron Rodgers' ... 'Prince Emili'\n",
      " \"Ja'Marcus Ingram\" 'C.J. Brewer']\n",
      "\n",
      " ------------------------------------------------------------------------------------------\n"
     ]
    }
   ],
   "source": [
    "### Uniques values in players_df\n",
    "\n",
    "for i in player_df.columns:\n",
    "    print(i,\":\",player_df[i].unique())\n",
    "    print(\"\\n\", \"-\"*90)"
   ]
  },
  {
   "cell_type": "markdown",
   "metadata": {},
   "source": [
    "### Data Cleaning"
   ]
  },
  {
   "cell_type": "code",
   "execution_count": 58,
   "metadata": {},
   "outputs": [],
   "source": [
    "\n",
    "\n",
    "player_df[\"birthDate\"] = pd.to_datetime(player_df[\"birthDate\"], errors = \"coerce\")"
   ]
  },
  {
   "cell_type": "code",
   "execution_count": 59,
   "metadata": {},
   "outputs": [
    {
     "data": {
      "text/plain": [
       "nflId                   int64\n",
       "height                 object\n",
       "weight                  int64\n",
       "birthDate      datetime64[ns]\n",
       "collegeName            object\n",
       "position               object\n",
       "displayName            object\n",
       "dtype: object"
      ]
     },
     "execution_count": 59,
     "metadata": {},
     "output_type": "execute_result"
    }
   ],
   "source": [
    "### The datatype is changed\n",
    "player_df.dtypes\n",
    "\n"
   ]
  },
  {
   "cell_type": "code",
   "execution_count": 100,
   "metadata": {},
   "outputs": [
    {
     "name": "stdout",
     "output_type": "stream",
     "text": [
      "The data type of Date field is: datetime64[ns]\n"
     ]
    },
    {
     "data": {
      "text/html": [
       "<div>\n",
       "<style scoped>\n",
       "    .dataframe tbody tr th:only-of-type {\n",
       "        vertical-align: middle;\n",
       "    }\n",
       "\n",
       "    .dataframe tbody tr th {\n",
       "        vertical-align: top;\n",
       "    }\n",
       "\n",
       "    .dataframe thead th {\n",
       "        text-align: right;\n",
       "    }\n",
       "</style>\n",
       "<table border=\"1\" class=\"dataframe\">\n",
       "  <thead>\n",
       "    <tr style=\"text-align: right;\">\n",
       "      <th></th>\n",
       "      <th>nflId</th>\n",
       "      <th>height</th>\n",
       "      <th>weight</th>\n",
       "      <th>birthDate</th>\n",
       "      <th>collegeName</th>\n",
       "      <th>position</th>\n",
       "      <th>displayName</th>\n",
       "    </tr>\n",
       "  </thead>\n",
       "  <tbody>\n",
       "    <tr>\n",
       "      <th>0</th>\n",
       "      <td>25511</td>\n",
       "      <td>6-4</td>\n",
       "      <td>225</td>\n",
       "      <td>1977-08-03</td>\n",
       "      <td>Michigan</td>\n",
       "      <td>QB</td>\n",
       "      <td>Tom Brady</td>\n",
       "    </tr>\n",
       "    <tr>\n",
       "      <th>1</th>\n",
       "      <td>29550</td>\n",
       "      <td>6-4</td>\n",
       "      <td>328</td>\n",
       "      <td>1982-01-22</td>\n",
       "      <td>Arkansas</td>\n",
       "      <td>T</td>\n",
       "      <td>Jason Peters</td>\n",
       "    </tr>\n",
       "    <tr>\n",
       "      <th>2</th>\n",
       "      <td>29851</td>\n",
       "      <td>6-2</td>\n",
       "      <td>225</td>\n",
       "      <td>1983-12-02</td>\n",
       "      <td>California</td>\n",
       "      <td>QB</td>\n",
       "      <td>Aaron Rodgers</td>\n",
       "    </tr>\n",
       "    <tr>\n",
       "      <th>3</th>\n",
       "      <td>30842</td>\n",
       "      <td>6-6</td>\n",
       "      <td>267</td>\n",
       "      <td>1984-05-19</td>\n",
       "      <td>UCLA</td>\n",
       "      <td>TE</td>\n",
       "      <td>Marcedes Lewis</td>\n",
       "    </tr>\n",
       "    <tr>\n",
       "      <th>4</th>\n",
       "      <td>33084</td>\n",
       "      <td>6-4</td>\n",
       "      <td>217</td>\n",
       "      <td>1985-05-17</td>\n",
       "      <td>Boston College</td>\n",
       "      <td>QB</td>\n",
       "      <td>Matt Ryan</td>\n",
       "    </tr>\n",
       "  </tbody>\n",
       "</table>\n",
       "</div>"
      ],
      "text/plain": [
       "   nflId height  weight  birthDate     collegeName position     displayName\n",
       "0  25511    6-4     225 1977-08-03        Michigan       QB       Tom Brady\n",
       "1  29550    6-4     328 1982-01-22        Arkansas        T    Jason Peters\n",
       "2  29851    6-2     225 1983-12-02      California       QB   Aaron Rodgers\n",
       "3  30842    6-6     267 1984-05-19            UCLA       TE  Marcedes Lewis\n",
       "4  33084    6-4     217 1985-05-17  Boston College       QB       Matt Ryan"
      ]
     },
     "execution_count": 100,
     "metadata": {},
     "output_type": "execute_result"
    }
   ],
   "source": [
    "def Impute_birthDate(df):\n",
    "    \n",
    "    ### Changing the datatype of \"birthDate\"\n",
    "    player_df.birthDate = pd.to_datetime(player_df[\"birthDate\"], errors = \"coerce\")\n",
    "    \n",
    "    ### Imputing the null values\n",
    "    birthdate_median = player_df.birthDate.median()\n",
    "    \n",
    "    player_df[\"birthDate\"].fillna(birthdate_median, inplace = True)\n",
    "    ### Cross validating the datatype is changed to \"datetime\" format\n",
    "    print(\"The data type of Date field is:\",player_df.birthDate.dtypes)\n",
    "    \n",
    "    return df.head()\n",
    "\n",
    "Impute_birthDate(player_df)\n",
    "    "
   ]
  },
  {
   "cell_type": "code",
   "execution_count": 101,
   "metadata": {},
   "outputs": [
    {
     "name": "stdout",
     "output_type": "stream",
     "text": [
      "<class 'pandas.core.frame.DataFrame'>\n",
      "RangeIndex: 1697 entries, 0 to 1696\n",
      "Data columns (total 7 columns):\n",
      " #   Column       Non-Null Count  Dtype         \n",
      "---  ------       --------------  -----         \n",
      " 0   nflId        1697 non-null   int64         \n",
      " 1   height       1697 non-null   object        \n",
      " 2   weight       1697 non-null   int64         \n",
      " 3   birthDate    1697 non-null   datetime64[ns]\n",
      " 4   collegeName  1697 non-null   object        \n",
      " 5   position     1697 non-null   object        \n",
      " 6   displayName  1697 non-null   object        \n",
      "dtypes: datetime64[ns](1), int64(2), object(4)\n",
      "memory usage: 92.9+ KB\n"
     ]
    }
   ],
   "source": [
    "player_df.info()"
   ]
  },
  {
   "cell_type": "code",
   "execution_count": 104,
   "metadata": {},
   "outputs": [
    {
     "data": {
      "text/plain": [
       "0"
      ]
     },
     "execution_count": 104,
     "metadata": {},
     "output_type": "execute_result"
    }
   ],
   "source": [
    "player_df.birthDate.isnull().sum()"
   ]
  }
 ],
 "metadata": {
  "kaggle": {
   "accelerator": "none",
   "dataSources": [
    {
     "databundleVersionId": 9816926,
     "sourceId": 84175,
     "sourceType": "competition"
    }
   ],
   "dockerImageVersionId": 30918,
   "isGpuEnabled": false,
   "isInternetEnabled": false,
   "language": "python",
   "sourceType": "notebook"
  },
  "kernelspec": {
   "display_name": "Python 3 (ipykernel)",
   "language": "python",
   "name": "python3"
  },
  "language_info": {
   "codemirror_mode": {
    "name": "ipython",
    "version": 3
   },
   "file_extension": ".py",
   "mimetype": "text/x-python",
   "name": "python",
   "nbconvert_exporter": "python",
   "pygments_lexer": "ipython3",
   "version": "3.11.5"
  }
 },
 "nbformat": 4,
 "nbformat_minor": 4
}
